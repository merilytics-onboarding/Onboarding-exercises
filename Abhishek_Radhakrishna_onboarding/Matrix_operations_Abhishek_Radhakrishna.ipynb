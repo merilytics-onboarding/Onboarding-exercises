{
 "cells": [
  {
   "cell_type": "markdown",
   "metadata": {},
   "source": [
    "# Matrix Operations"
   ]
  },
  {
   "cell_type": "code",
   "execution_count": 1,
   "metadata": {},
   "outputs": [],
   "source": [
    "import numpy"
   ]
  },
  {
   "cell_type": "code",
   "execution_count": 5,
   "metadata": {},
   "outputs": [],
   "source": [
    "# Two matrices are initialized by value\n",
    "x = numpy.matrix([[12, 45], [24, 65]])\n",
    "y = numpy.matrix([[27, 72], [79, 16]])"
   ]
  },
  {
   "cell_type": "code",
   "execution_count": 6,
   "metadata": {},
   "outputs": [
    {
     "name": "stdout",
     "output_type": "stream",
     "text": [
      "Addition of two matrices: \n",
      "[[ 39 117]\n",
      " [103  81]]\n"
     ]
    }
   ],
   "source": [
    "#  add()is used to add matrices\n",
    "print (\"Addition of two matrices: \")\n",
    "print (numpy.add(x,y))"
   ]
  },
  {
   "cell_type": "code",
   "execution_count": 7,
   "metadata": {},
   "outputs": [
    {
     "name": "stdout",
     "output_type": "stream",
     "text": [
      "Subtraction of two matrices : \n",
      "[[-15 -27]\n",
      " [-55  49]]\n"
     ]
    }
   ],
   "source": [
    "# subtract()is used to subtract matrices\n",
    "print (\"Subtraction of two matrices : \")\n",
    "print (numpy.subtract(x,y))"
   ]
  },
  {
   "cell_type": "code",
   "execution_count": 8,
   "metadata": {},
   "outputs": [
    {
     "name": "stdout",
     "output_type": "stream",
     "text": [
      "Matrix Division : \n",
      "[[0.44444444 0.625     ]\n",
      " [0.30379747 4.0625    ]]\n"
     ]
    }
   ],
   "source": [
    "# divide()is used to divide matrices\n",
    "print (\"Matrix Division : \")\n",
    "print (numpy.divide(x,y))"
   ]
  },
  {
   "cell_type": "code",
   "execution_count": 9,
   "metadata": {},
   "outputs": [
    {
     "name": "stdout",
     "output_type": "stream",
     "text": [
      "Multiplication of two matrices: \n",
      "[[ 324 3240]\n",
      " [1896 1040]]\n"
     ]
    }
   ],
   "source": [
    "print (\"Multiplication of two matrices: \")\n",
    "print (numpy.multiply(x,y))"
   ]
  },
  {
   "cell_type": "code",
   "execution_count": 10,
   "metadata": {},
   "outputs": [
    {
     "name": "stdout",
     "output_type": "stream",
     "text": [
      "The product of two matrices : \n",
      "[[3879 1584]\n",
      " [5783 2768]]\n"
     ]
    }
   ],
   "source": [
    "print (\"The product of two matrices : \")\n",
    "print (numpy.dot(x,y))"
   ]
  },
  {
   "cell_type": "code",
   "execution_count": 11,
   "metadata": {},
   "outputs": [
    {
     "name": "stdout",
     "output_type": "stream",
     "text": [
      "square root is : \n",
      "[[3.46410162 6.70820393]\n",
      " [4.89897949 8.06225775]]\n"
     ]
    }
   ],
   "source": [
    "print (\"square root is : \")\n",
    "print (numpy.sqrt(x))"
   ]
  },
  {
   "cell_type": "code",
   "execution_count": 12,
   "metadata": {},
   "outputs": [
    {
     "name": "stdout",
     "output_type": "stream",
     "text": [
      "The summation of elements : \n",
      "194\n"
     ]
    }
   ],
   "source": [
    "print (\"The summation of elements : \")\n",
    "print (numpy.sum(y))"
   ]
  },
  {
   "cell_type": "code",
   "execution_count": 13,
   "metadata": {},
   "outputs": [
    {
     "name": "stdout",
     "output_type": "stream",
     "text": [
      "The column wise summation  : \n",
      "[[106  88]]\n"
     ]
    }
   ],
   "source": [
    "print (\"The column wise summation  : \")\n",
    "print (numpy.sum(y,axis=0))"
   ]
  },
  {
   "cell_type": "code",
   "execution_count": 14,
   "metadata": {},
   "outputs": [
    {
     "name": "stdout",
     "output_type": "stream",
     "text": [
      "The row wise summation: \n",
      "[[99]\n",
      " [95]]\n"
     ]
    }
   ],
   "source": [
    "print (\"The row wise summation: \")\n",
    "print (numpy.sum(y,axis=1))"
   ]
  },
  {
   "cell_type": "code",
   "execution_count": 15,
   "metadata": {},
   "outputs": [
    {
     "name": "stdout",
     "output_type": "stream",
     "text": [
      "Matrix transposition : \n",
      "[[12 24]\n",
      " [45 65]]\n"
     ]
    }
   ],
   "source": [
    "# using \"T\" to transpose the matrix\n",
    "print (\"Matrix transposition : \")\n",
    "print (x.T)"
   ]
  },
  {
   "cell_type": "code",
   "execution_count": 16,
   "metadata": {},
   "outputs": [
    {
     "name": "stdout",
     "output_type": "stream",
     "text": [
      "Matrix Inverse : \n",
      "[[-0.21666667  0.15      ]\n",
      " [ 0.08       -0.04      ]]\n"
     ]
    }
   ],
   "source": [
    "print (\"Matrix Inverse : \")\n",
    "print (x.I)"
   ]
  }
 ],
 "metadata": {
  "kernelspec": {
   "display_name": "Python 3",
   "language": "python",
   "name": "python3"
  },
  "language_info": {
   "codemirror_mode": {
    "name": "ipython",
    "version": 3
   },
   "file_extension": ".py",
   "mimetype": "text/x-python",
   "name": "python",
   "nbconvert_exporter": "python",
   "pygments_lexer": "ipython3",
   "version": "3.8.3"
  }
 },
 "nbformat": 4,
 "nbformat_minor": 4
}
